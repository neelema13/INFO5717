{
 "cells": [
  {
   "cell_type": "code",
   "execution_count": 1,
   "metadata": {},
   "outputs": [],
   "source": [
    "import csv\n",
    "import re"
   ]
  },
  {
   "cell_type": "code",
   "execution_count": 7,
   "metadata": {},
   "outputs": [
    {
     "name": "stdout",
     "output_type": "stream",
     "text": [
      "Enter a word: help\n"
     ]
    }
   ],
   "source": [
    "user_input = input(\"Enter a word: \") # Ask the user for word input\n",
    "with open(\"output.csv\" , 'r' ) as input_file:\n",
    "    file_reader = csv.reader(input_file) #Create file reading variable\n",
    "    for row in file_reader: # Loop to  read each row from file\n",
    "        search_term = \" \"+user_input+\" \"\n",
    "        if search_term in row[2] :\n",
    "            found_words = re.findall(search_term,row[2])\n",
    "            print(row[0],row[1],len(found_words))"
   ]
  },
  {
   "cell_type": "code",
   "execution_count": null,
   "metadata": {},
   "outputs": [],
   "source": []
  },
  {
   "cell_type": "code",
   "execution_count": null,
   "metadata": {},
   "outputs": [],
   "source": []
  }
 ],
 "metadata": {
  "kernelspec": {
   "display_name": "Python 3",
   "language": "python",
   "name": "python3"
  },
  "language_info": {
   "codemirror_mode": {
    "name": "ipython",
    "version": 3
   },
   "file_extension": ".py",
   "mimetype": "text/x-python",
   "name": "python",
   "nbconvert_exporter": "python",
   "pygments_lexer": "ipython3",
   "version": "3.7.3"
  }
 },
 "nbformat": 4,
 "nbformat_minor": 2
}
