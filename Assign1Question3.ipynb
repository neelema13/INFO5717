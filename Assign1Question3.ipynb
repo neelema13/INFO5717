{
 "cells": [
  {
   "cell_type": "code",
   "execution_count": 1,
   "metadata": {},
   "outputs": [
    {
     "name": "stdout",
     "output_type": "stream",
     "text": [
      "the sorted elements in ascending order is \n",
      "7\n",
      "13\n",
      "20\n",
      "21\n",
      "22\n",
      "26\n",
      "35\n",
      "36\n",
      "40\n",
      "53\n",
      "92\n",
      "99\n",
      "the sorted elements in descending order is\n",
      "99\n",
      "92\n",
      "53\n",
      "40\n",
      "36\n",
      "35\n",
      "26\n",
      "22\n",
      "21\n",
      "20\n",
      "13\n",
      "7\n",
      "The mean for the list is 38.666666666666664\n"
     ]
    }
   ],
   "source": [
    "#this code is used to generate a series of random numbers and sort them\n",
    "\n",
    "import random\n",
    "filename=[]\n",
    "for x in range(12):\n",
    "\t#calculating the random number between 1 and 100\n",
    "\ta=random.randint(1,101) \n",
    "\tfilename.append(a)\n",
    "\n",
    "#sorting to print the numbers in the ascending order\n",
    "f1=sorted(filename)\n",
    "print(\"the sorted elements in ascending order is \")\n",
    "for f in f1:\n",
    "\tprint(f)\n",
    "\n",
    "#To reverse the order of the list to print the same in the descending order\n",
    "#reverse() method found on https://www.tutorialspoint.com/python/list_reverse.htm\n",
    "f1.reverse()\n",
    "print(\"the sorted elements in descending order is\")\n",
    "for f3 in f1:\n",
    "\tprint(f3)\n",
    "\n",
    "#calculating the average of the elements in the list\n",
    "favg=sum(f1)/len(f1) \n",
    "print(\"The mean for the list is\", favg)"
   ]
  },
  {
   "cell_type": "code",
   "execution_count": null,
   "metadata": {
    "collapsed": true
   },
   "outputs": [],
   "source": []
  },
  {
   "cell_type": "code",
   "execution_count": null,
   "metadata": {
    "collapsed": true
   },
   "outputs": [],
   "source": []
  }
 ],
 "metadata": {
  "kernelspec": {
   "display_name": "Python 3",
   "language": "python",
   "name": "python3"
  },
  "language_info": {
   "codemirror_mode": {
    "name": "ipython",
    "version": 3
   },
   "file_extension": ".py",
   "mimetype": "text/x-python",
   "name": "python",
   "nbconvert_exporter": "python",
   "pygments_lexer": "ipython3",
   "version": "3.7.3"
  }
 },
 "nbformat": 4,
 "nbformat_minor": 2
}
